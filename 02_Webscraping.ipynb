{
 "cells": [
  {
   "cell_type": "markdown",
   "id": "e5512a56",
   "metadata": {},
   "source": [
    "과제 2-1 네이트 뉴스 이미지 출력"
   ]
  },
  {
   "cell_type": "code",
   "execution_count": 1,
   "id": "a55116f9",
   "metadata": {},
   "outputs": [
    {
     "name": "stdout",
     "output_type": "stream",
     "text": [
      "=======>  https://news.nate.com/section?mid=n0200  정치 뉴스 <=======\n",
      "http://news.nate.com/view/20250410n07647?mid=n0200\n"
     ]
    },
    {
     "data": {
      "text/html": [
       "<img src=\"http://thumbnews.nateimg.co.kr/news90///news.nateimg.co.kr/orgImg/hn/2025/04/10/20250410500488.jpg\"/>"
      ],
      "text/plain": [
       "<IPython.core.display.Image object>"
      ]
     },
     "metadata": {},
     "output_type": "display_data"
    },
    {
     "name": "stdout",
     "output_type": "stream",
     "text": [
      "[단독] '한덕수 폭주'에 법제처 \"대통령 권한대행, 현상유지 그쳐야\"\n",
      "http://news.nate.com/view/20250410n05833?mid=n0200\n"
     ]
    },
    {
     "data": {
      "text/html": [
       "<img src=\"http://thumbnews.nateimg.co.kr/news90///news.nateimg.co.kr/orgImg/yt/2025/04/10/AKR20250409118300053_02_i.jpg\"/>"
      ],
      "text/plain": [
       "<IPython.core.display.Image object>"
      ]
     },
     "metadata": {},
     "output_type": "display_data"
    },
    {
     "name": "stdout",
     "output_type": "stream",
     "text": [
      "'대선 출마' 홍준표 중도사퇴에 대구 숙원사업 차질 불가피\n",
      "http://news.nate.com/view/20250410n05654?mid=n0200\n"
     ]
    },
    {
     "data": {
      "text/html": [
       "<img src=\"http://thumbnews.nateimg.co.kr/news90///news.nateimg.co.kr/orgImg/no/2025/04/10/SSC_20250410082400_V.jpg\"/>"
      ],
      "text/plain": [
       "<IPython.core.display.Image object>"
      ]
     },
     "metadata": {},
     "output_type": "display_data"
    },
    {
     "name": "stdout",
     "output_type": "stream",
     "text": [
      "\"尹, 평소와 달리 약주 한 잔도 안해…상처받은 듯\" 이철우가 전한 근황\n",
      "http://news.nate.com/view/20250410n05123?mid=n0200\n"
     ]
    },
    {
     "data": {
      "text/html": [
       "<img src=\"http://thumbnews.nateimg.co.kr/news90///news.nateimg.co.kr/orgImg/jt/2025/04/10/20250410074443953001.png\"/>"
      ],
      "text/plain": [
       "<IPython.core.display.Image object>"
      ]
     },
     "metadata": {},
     "output_type": "display_data"
    },
    {
     "name": "stdout",
     "output_type": "stream",
     "text": [
      "\"모르고, 알 바 아니다\"…이완규, 경찰 조사 '안하무인' 태도 논란\n",
      "http://news.nate.com/view/20250410n02362?mid=n0200\n"
     ]
    },
    {
     "data": {
      "text/html": [
       "<img src=\"http://thumbnews.nateimg.co.kr/news90///news.nateimg.co.kr/orgImg/mt/2025/04/10/2025041002532338225_1.jpg\"/>"
      ],
      "text/plain": [
       "<IPython.core.display.Image object>"
      ]
     },
     "metadata": {},
     "output_type": "display_data"
    },
    {
     "name": "stdout",
     "output_type": "stream",
     "text": [
      "\"고민 길었다\" 오세훈, 시장직 유지한 채 대권 도전…판 흔들까\n",
      "http://news.nate.com/view/20250410n01644?mid=n0200\n"
     ]
    },
    {
     "data": {
      "text/html": [
       "<img src=\"http://thumbnews.nateimg.co.kr/news90///news.nateimg.co.kr/orgImg/jo/2025/04/10/64c7553b-0c09-4fd9-91e1-465e907c3889.jpg\"/>"
      ],
      "text/plain": [
       "<IPython.core.display.Image object>"
      ]
     },
     "metadata": {},
     "output_type": "display_data"
    },
    {
     "name": "stdout",
     "output_type": "stream",
     "text": [
      "[단독] 트럼프 \"대선 나갈건가\"…한덕수에 직접 물었다\n",
      "http://news.nate.com/view/20250410n01748?mid=n0200\n"
     ]
    },
    {
     "data": {
      "text/html": [
       "<img src=\"http://thumbnews.nateimg.co.kr/news90///news.nateimg.co.kr/orgImg/no/2025/04/10/SSC_20250409134822_V.jpg\"/>"
      ],
      "text/plain": [
       "<IPython.core.display.Image object>"
      ]
     },
     "metadata": {},
     "output_type": "display_data"
    },
    {
     "name": "stdout",
     "output_type": "stream",
     "text": [
      "국힘 경선 '2강 최종 대결' 거론…\"원샷 4자\" \"민심 100%\" 신경전\n",
      "http://news.nate.com/view/20250410n01393?mid=n0200\n"
     ]
    },
    {
     "data": {
      "text/html": [
       "<img src=\"http://thumbnews.nateimg.co.kr/news90///news.nateimg.co.kr/orgImg/hi/2025/04/10/b49de5df-20b5-424c-922e-bd9fd132e776.jpg\"/>"
      ],
      "text/plain": [
       "<IPython.core.display.Image object>"
      ]
     },
     "metadata": {},
     "output_type": "display_data"
    },
    {
     "name": "stdout",
     "output_type": "stream",
     "text": [
      " 경호처 '초유의 연판장' 사태…尹 파면에도 버티는 김성훈에 반발\n",
      "http://news.nate.com/view/20250409n38004?mid=n0200\n"
     ]
    },
    {
     "data": {
      "text/html": [
       "<img src=\"http://thumbnews.nateimg.co.kr/news90///news.nateimg.co.kr/orgImg/sg/2025/04/09/20250409519279.jpg\"/>"
      ],
      "text/plain": [
       "<IPython.core.display.Image object>"
      ]
     },
     "metadata": {},
     "output_type": "display_data"
    },
    {
     "name": "stdout",
     "output_type": "stream",
     "text": [
      "이재명, 10일 영상으로 대선 출마 선언…모레 국회서 비전 발표\n",
      "http://news.nate.com/view/20250409n37268?mid=n0200\n"
     ]
    },
    {
     "data": {
      "text/html": [
       "<img src=\"http://thumbnews.nateimg.co.kr/news90///news.nateimg.co.kr/orgImg/yt/2025/04/09/PYH2024111425140005200_P2.jpg\"/>"
      ],
      "text/plain": [
       "<IPython.core.display.Image object>"
      ]
     },
     "metadata": {},
     "output_type": "display_data"
    },
    {
     "name": "stdout",
     "output_type": "stream",
     "text": [
      "풀려난 명태균의 입 주목…尹부부 의혹 등 검찰수사 변수될까\n",
      "http://news.nate.com/view/20250409n37734?mid=n0200\n"
     ]
    },
    {
     "data": {
      "text/html": [
       "<img src=\"http://thumbnews.nateimg.co.kr/news90///news.nateimg.co.kr/orgImg/jt/2025/04/09/20250409193303290001.jpg\"/>"
      ],
      "text/plain": [
       "<IPython.core.display.Image object>"
      ]
     },
     "metadata": {},
     "output_type": "display_data"
    },
    {
     "name": "stdout",
     "output_type": "stream",
     "text": [
      "[단독] 이름 써내는데 자율?…707대원들에 '김현태 선처' 탄원서 압박\n",
      "http://news.nate.com/view/20250409n33483?mid=n0200\n"
     ]
    },
    {
     "data": {
      "text/html": [
       "<img src=\"http://thumbnews.nateimg.co.kr/news90///news.nateimg.co.kr/orgImg/kh/2025/04/09/news-p.v1.20250409.5e2f4a39764c4ace970a94b81abf9f3e_P1.jpg\"/>"
      ],
      "text/plain": [
       "<IPython.core.display.Image object>"
      ]
     },
     "metadata": {},
     "output_type": "display_data"
    },
    {
     "name": "stdout",
     "output_type": "stream",
     "text": [
      "[단독]경호처, '윤석열 체포 저지' 반대 간부 해임징계 한덕수에 제청\n",
      "http://news.nate.com/view/20250409n30984?mid=n0200\n"
     ]
    },
    {
     "data": {
      "text/html": [
       "<img src=\"http://thumbnews.nateimg.co.kr/news90///news.nateimg.co.kr/orgImg/na/2025/04/09/6717921_high.jpg\"/>"
      ],
      "text/plain": [
       "<IPython.core.display.Image object>"
      ]
     },
     "metadata": {},
     "output_type": "display_data"
    },
    {
     "name": "stdout",
     "output_type": "stream",
     "text": [
      "'훈련병 사망' 중대장·부중대장, 항소심서도 무죄 주장\n",
      "http://news.nate.com/view/20250409n23624?mid=n0200\n"
     ]
    },
    {
     "data": {
      "text/html": [
       "<img src=\"http://thumbnews.nateimg.co.kr/news90///news.nateimg.co.kr/orgImg/jo/2025/04/09/eb83e4e1-a3de-4979-a507-317af3c56392.jpg\"/>"
      ],
      "text/plain": [
       "<IPython.core.display.Image object>"
      ]
     },
     "metadata": {},
     "output_type": "display_data"
    },
    {
     "name": "stdout",
     "output_type": "stream",
     "text": [
      "국힘 대선 후보군 벌써 15명…'절대 강자' 없자 너도나도 \"출마\"\n",
      "http://news.nate.com/view/20250409n16582?mid=n0200\n"
     ]
    },
    {
     "data": {
      "text/html": [
       "<img src=\"http://thumbnews.nateimg.co.kr/news90///news.nateimg.co.kr/orgImg/hi/2025/04/09/6f8d1ae0-ae90-4cbd-9db0-756d642054c5.jpg\"/>"
      ],
      "text/plain": [
       "<IPython.core.display.Image object>"
      ]
     },
     "metadata": {},
     "output_type": "display_data"
    },
    {
     "name": "stdout",
     "output_type": "stream",
     "text": [
      "김두관 \"국회 분원·대통령실 부지 있는 세종…수도 이전 충분히 가능\"\n"
     ]
    }
   ],
   "source": [
    "# reqeusts, bs4 import\n",
    "import requests\n",
    "import bs4\n",
    "\n",
    "# BeautifulSoup 클래스 import\n",
    "from bs4 import BeautifulSoup\n",
    "\n",
    "from urllib.parse import urljoin\n",
    "from IPython.display import Image, display\n",
    "\n",
    "section_dict = {\n",
    "    \"최신\" : \"0100\",\n",
    "    \"정치\" : \"0200\",\n",
    "    \"경제\" : \"0300\",\n",
    "    \"사회\" : \"0400\",\n",
    "    \"세계\" : \"0500\",\n",
    "    \"IT/과학\" : \"0600\"\n",
    "}\n",
    "\n",
    "def print_news(section_name):\n",
    "    section = section_dict[section_name]\n",
    "    if section=='0100':\n",
    "        url = f\"https://news.nate.com/recent?mid=n{section}\"\n",
    "    else:\n",
    "        url = f\"https://news.nate.com/section?mid=n{section}\"\n",
    "\n",
    "    req_header = {\n",
    "        \"user-agent\": \"Mozilla/5.0 (Windows NT 10.0; Win64; x64) AppleWebKit/537.36 (KHTML, like Gecko) Chrome/135.0.0.0 Safari/537.36\"\n",
    "    }\n",
    "    print(f'=======>  {url}  {section_name} 뉴스 <=======')\n",
    "    res = requests.get(url, headers=req_header)\n",
    "    \n",
    "    if res.ok:\n",
    "        html = res.text\n",
    "        soup = BeautifulSoup(html, \"html.parser\")\n",
    "        a_tag_list = soup.select(\"div.mlt01 a\")\n",
    "\n",
    "        for a_tag in a_tag_list:\n",
    "            link = a_tag['href']\n",
    "            h2_tag = a_tag.select_one('span.tb h2.tit')\n",
    "            title = h2_tag.text\n",
    "            print(f'http:{link}')\n",
    "            if a_tag.select_one('span.ib img') != None:\n",
    "                img_tag = a_tag.select_one('span.ib img')\n",
    "                img_link = img_tag['src']\n",
    "                display(Image(url=f'http:{img_link}'))\n",
    "            print(title)\n",
    "\n",
    "text = input('최신, 정치, 경제, 사회, 세계, IT/과학 중 하나를 입력하시오')\n",
    "print_news(text)"
   ]
  },
  {
   "cell_type": "markdown",
   "id": "a2a85b58",
   "metadata": {},
   "source": [
    "과제 2-2 웹툰 이미지 다운로드"
   ]
  },
  {
   "cell_type": "code",
   "execution_count": null,
   "id": "b8cdfab2",
   "metadata": {},
   "outputs": [
    {
     "name": "stdout",
     "output_type": "stream",
     "text": [
      "91\n",
      "91\n"
     ]
    }
   ],
   "source": [
    "import requests\n",
    "from bs4 import BeautifulSoup\n",
    "import os\n",
    "\n",
    "\n",
    "def download_one_episode(title, no, url):\n",
    "    req_header = {\"referer\": url}\n",
    "    res = requests.get(url)\n",
    "    if res.ok:\n",
    "        # jpg 파일 절대경로 url 찾기\n",
    "        soup = BeautifulSoup(res.text, \"html.parser\")\n",
    "        print(len(soup.select(\"img[src*= 'IMAG01']\")))\n",
    "        img_tags = soup.select(\"img[src*= 'IMAG01']\")\n",
    "        # img_url list\n",
    "        img_urls = [img[\"src\"] for img in img_tags]\n",
    "        print(len(img_urls))\n",
    "\n",
    "        # img 디렉토리 생성\n",
    "        folder_path = os.path.join(os.getcwd(), 'img',title, str(no))\n",
    "        os.makedirs(folder_path, exist_ok=True)\n",
    "        # imgdir이 없으면 생성\n",
    "        for img_url in img_urls:\n",
    "            # requests 의 get(url, headers) 함수 호출하기\n",
    "            # binary 응답 데이터 가져오기\n",
    "            img_data = res.content\n",
    "            # url에서 파일명만 추출하기\n",
    "            filename = os.path.basename(img_url)\n",
    "            file_path = os.path.join(folder_path, filename)\n",
    "            # binday data를 file에 write하기\n",
    "            with open(file_path, \"wb\") as file:\n",
    "                file.write(img_data)\n",
    "    else:\n",
    "        print(f\"error code = {res.status_code}\")\n",
    "\n",
    "\n",
    "download_one_episode(\"일렉시드\", 340,\"https://comic.naver.com/webtoon/detail?titleId=717481&no=340&week=wed\")"
   ]
  },
  {
   "cell_type": "markdown",
   "id": "c6ae28b2",
   "metadata": {},
   "source": [
    "과제 2-3"
   ]
  },
  {
   "cell_type": "code",
   "execution_count": 3,
   "id": "8d7c8580",
   "metadata": {},
   "outputs": [
    {
     "name": "stdout",
     "output_type": "stream",
     "text": [
      "0\n"
     ]
    }
   ],
   "source": [
    "import requests\n",
    "from bs4 import BeautifulSoup\n",
    "import os\n",
    "\n",
    "\n",
    "def download_all_episode(title, url):\n",
    "    req_header = {\"referer\": url}\n",
    "    res = requests.get(url)\n",
    "    if res.ok:\n",
    "        soup = BeautifulSoup(res.text, \"html.parser\")\n",
    "        print(len(soup.select(\"li.EpisodeListList__item--M8zq4 a\")))\n",
    "        epi_list = soup.select(\"li.EpisodeListList__item--M8zq4 a\")\n",
    "        for episode in epi_list:\n",
    "            # 에피소드 링크\n",
    "            episode_link = episode[\"href\"]\n",
    "            # 에피소드 번호\n",
    "            no = episode_link.split(\"=\")[2].split(\"&\")[0]\n",
    "            print(no)\n",
    "            # 에피소드 다운로드\n",
    "            download_one_episode(title, no, episode_link)\n",
    "    else:\n",
    "        print(f\"error code = {res.status_code}\")\n",
    "\n",
    "\n",
    "download_all_episode(\"일렉시드\", \"https://comic.naver.com/webtoon/list?titleId=717481&tab=wed\")"
   ]
  }
 ],
 "metadata": {
  "kernelspec": {
   "display_name": "base",
   "language": "python",
   "name": "python3"
  },
  "language_info": {
   "codemirror_mode": {
    "name": "ipython",
    "version": 3
   },
   "file_extension": ".py",
   "mimetype": "text/x-python",
   "name": "python",
   "nbconvert_exporter": "python",
   "pygments_lexer": "ipython3",
   "version": "3.12.7"
  }
 },
 "nbformat": 4,
 "nbformat_minor": 5
}
