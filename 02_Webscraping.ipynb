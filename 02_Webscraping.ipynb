{
 "cells": [
  {
   "cell_type": "markdown",
   "id": "e5512a56",
   "metadata": {},
   "source": [
    "과제 2-1 네이트 뉴스 이미지 출력"
   ]
  },
  {
   "cell_type": "code",
   "execution_count": 14,
   "id": "a55116f9",
   "metadata": {},
   "outputs": [
    {
     "name": "stdout",
     "output_type": "stream",
     "text": [
      "=======>  https://news.nate.com/section?mid=n0200  정치 뉴스 <=======\n",
      "http://news.nate.com/view/20250409n30984?mid=n0200\n"
     ]
    },
    {
     "data": {
      "text/html": [
       "<img src=\"http://thumbnews.nateimg.co.kr/news90///news.nateimg.co.kr/orgImg/na/2025/04/09/6717921_high.jpg\"/>"
      ],
      "text/plain": [
       "<IPython.core.display.Image object>"
      ]
     },
     "metadata": {},
     "output_type": "display_data"
    },
    {
     "name": "stdout",
     "output_type": "stream",
     "text": [
      "'훈련병 사망' 중대장·부중대장, 항소심서도 무죄 주장\n",
      "http://news.nate.com/view/20250409n27024?mid=n0200\n"
     ]
    },
    {
     "data": {
      "text/html": [
       "<img src=\"http://thumbnews.nateimg.co.kr/news90///news.nateimg.co.kr/orgImg/hk/2025/04/09/ZN.40098378.1.jpg\"/>"
      ],
      "text/plain": [
       "<IPython.core.display.Image object>"
      ]
     },
     "metadata": {},
     "output_type": "display_data"
    },
    {
     "name": "stdout",
     "output_type": "stream",
     "text": [
      "권성동 \"윤석열·이재명 동시 퇴장이 시대의 명령\"\n",
      "http://news.nate.com/view/20250409n27152?mid=n0200\n"
     ]
    },
    {
     "data": {
      "text/html": [
       "<img src=\"http://thumbnews.nateimg.co.kr/news90///news.nateimg.co.kr/orgImg/jo/2025/04/09/427ceae5-4b1f-461b-bf5d-5ccaaef4ebd8.jpg\"/>"
      ],
      "text/plain": [
       "<IPython.core.display.Image object>"
      ]
     },
     "metadata": {},
     "output_type": "display_data"
    },
    {
     "name": "stdout",
     "output_type": "stream",
     "text": [
      "명태균·김영선, 구속 145일 만에 풀려난다…\"주거지 제한, 보석금 5000만원 조건\"\n",
      "http://news.nate.com/view/20250409n27495?mid=n0200\n"
     ]
    },
    {
     "data": {
      "text/html": [
       "<img src=\"http://thumbnews.nateimg.co.kr/news90///news.nateimg.co.kr/orgImg/no/2025/04/09/SSC_20250409152849_V.jpg\"/>"
      ],
      "text/plain": [
       "<IPython.core.display.Image object>"
      ]
     },
     "metadata": {},
     "output_type": "display_data"
    },
    {
     "name": "stdout",
     "output_type": "stream",
     "text": [
      "노무현에 따졌던 '그 검사' 다시 돌아왔다…이완규 \"사퇴 거부\"\n",
      "http://news.nate.com/view/20250409n27309?mid=n0200\n"
     ]
    },
    {
     "data": {
      "text/html": [
       "<img src=\"http://thumbnews.nateimg.co.kr/news90///news.nateimg.co.kr/orgImg/yt/2025/04/09/PYH2025032703380001300_P2.jpg\"/>"
      ],
      "text/plain": [
       "<IPython.core.display.Image object>"
      ]
     },
     "metadata": {},
     "output_type": "display_data"
    },
    {
     "name": "stdout",
     "output_type": "stream",
     "text": [
      "오세훈, 시장직 달고 대권 도전…\"마지막까지 시정 책임\"\n",
      "http://news.nate.com/view/20250409n22374?mid=n0200\n"
     ]
    },
    {
     "data": {
      "text/html": [
       "<img src=\"http://thumbnews.nateimg.co.kr/news90///news.nateimg.co.kr/orgImg/hr/2025/04/09/news-p.v1.20250409.596e6ba70b4d458c8fdd7131611755c9_P1.jpg\"/>"
      ],
      "text/plain": [
       "<IPython.core.display.Image object>"
      ]
     },
     "metadata": {},
     "output_type": "display_data"
    },
    {
     "name": "stdout",
     "output_type": "stream",
     "text": [
      "'대선 시동' 이재명, 8년 만의 단독 저서 '결국 국민이 합니다' 출간\n",
      "http://news.nate.com/view/20250409n26089?mid=n0200\n"
     ]
    },
    {
     "data": {
      "text/html": [
       "<img src=\"http://thumbnews.nateimg.co.kr/news90///news.nateimg.co.kr/orgImg/na/2025/04/09/7039716_high.jpg\"/>"
      ],
      "text/plain": [
       "<IPython.core.display.Image object>"
      ]
     },
     "metadata": {},
     "output_type": "display_data"
    },
    {
     "name": "stdout",
     "output_type": "stream",
     "text": [
      "우원식 \"인사청문 요청 접수 않겠다\"…법조계 보이콧엔 회의적\n",
      "http://news.nate.com/view/20250409n23624?mid=n0200\n"
     ]
    },
    {
     "data": {
      "text/html": [
       "<img src=\"http://thumbnews.nateimg.co.kr/news90///news.nateimg.co.kr/orgImg/jo/2025/04/09/eb83e4e1-a3de-4979-a507-317af3c56392.jpg\"/>"
      ],
      "text/plain": [
       "<IPython.core.display.Image object>"
      ]
     },
     "metadata": {},
     "output_type": "display_data"
    },
    {
     "name": "stdout",
     "output_type": "stream",
     "text": [
      "국힘 대선 후보군 벌써 15명…'절대 강자' 없자 너도나도 \"출마\"\n",
      "http://news.nate.com/view/20250409n23037?mid=n0200\n"
     ]
    },
    {
     "data": {
      "text/html": [
       "<img src=\"http://thumbnews.nateimg.co.kr/news90///news.nateimg.co.kr/orgImg/fn/2025/04/09/202504091410120064_l.jpg\"/>"
      ],
      "text/plain": [
       "<IPython.core.display.Image object>"
      ]
     },
     "metadata": {},
     "output_type": "display_data"
    },
    {
     "name": "stdout",
     "output_type": "stream",
     "text": [
      "이철우 \"이재명 이길 새 인물…새로운 박정희 되겠다\"\n",
      "http://news.nate.com/view/20250409n16582?mid=n0200\n"
     ]
    },
    {
     "data": {
      "text/html": [
       "<img src=\"http://thumbnews.nateimg.co.kr/news90///news.nateimg.co.kr/orgImg/hi/2025/04/09/6f8d1ae0-ae90-4cbd-9db0-756d642054c5.jpg\"/>"
      ],
      "text/plain": [
       "<IPython.core.display.Image object>"
      ]
     },
     "metadata": {},
     "output_type": "display_data"
    },
    {
     "name": "stdout",
     "output_type": "stream",
     "text": [
      "김두관 \"국회 분원·대통령실 부지 있는 세종…수도 이전 충분히 가능\"\n",
      "http://news.nate.com/view/20250409n21665?mid=n0200\n"
     ]
    },
    {
     "data": {
      "text/html": [
       "<img src=\"http://thumbnews.nateimg.co.kr/news90///news.nateimg.co.kr/orgImg/se/2025/04/09/2GRGE4HZ8C_3.jpg\"/>"
      ],
      "text/plain": [
       "<IPython.core.display.Image object>"
      ]
     },
     "metadata": {},
     "output_type": "display_data"
    },
    {
     "name": "stdout",
     "output_type": "stream",
     "text": [
      "김문수 \"위대한 대한민국 이룰 것\"…현충원 찾아 본격 대선 모드\n",
      "http://news.nate.com/view/20250409n21326?mid=n0200\n"
     ]
    },
    {
     "data": {
      "text/html": [
       "<img src=\"http://thumbnews.nateimg.co.kr/news90///news.nateimg.co.kr/orgImg/mh/2025/04/09/2025040901039927042002_b.jpg\"/>"
      ],
      "text/plain": [
       "<IPython.core.display.Image object>"
      ]
     },
     "metadata": {},
     "output_type": "display_data"
    },
    {
     "name": "stdout",
     "output_type": "stream",
     "text": [
      "김동연이 밝힌 '3무3유 선거운동'…\"국민이 계파이고 조직\"\n",
      "http://news.nate.com/view/20250409n20281?mid=n0200\n"
     ]
    },
    {
     "data": {
      "text/html": [
       "<img src=\"http://thumbnews.nateimg.co.kr/news90///news.nateimg.co.kr/orgImg/mt/2025/04/09/2025040911492117554_1.jpg\"/>"
      ],
      "text/plain": [
       "<IPython.core.display.Image object>"
      ]
     },
     "metadata": {},
     "output_type": "display_data"
    },
    {
     "name": "stdout",
     "output_type": "stream",
     "text": [
      "'막차' 타고 대구 간 이준석…\"이재명 대권 목전…이기는 선택 되겠다\"\n",
      "http://news.nate.com/view/20250409n19177?mid=n0200\n"
     ]
    },
    {
     "data": {
      "text/html": [
       "<img src=\"http://thumbnews.nateimg.co.kr/news90///news.nateimg.co.kr/orgImg/na/2025/04/09/7226064_high.jpg\"/>"
      ],
      "text/plain": [
       "<IPython.core.display.Image object>"
      ]
     },
     "metadata": {},
     "output_type": "display_data"
    },
    {
     "name": "stdout",
     "output_type": "stream",
     "text": [
      "황교안, 국힘 탈당 대선 출마 \"부정선거 척결…尹 응원 받아\"\n",
      "http://news.nate.com/view/20250409n21218?mid=n0200\n"
     ]
    },
    {
     "data": {
      "text/html": [
       "<img src=\"http://thumbnews.nateimg.co.kr/news90///news.nateimg.co.kr/orgImg/hi/2025/04/09/f9d34f88-e95e-49d0-82f8-432301921778.jpg\"/>"
      ],
      "text/plain": [
       "<IPython.core.display.Image object>"
      ]
     },
     "metadata": {},
     "output_type": "display_data"
    },
    {
     "name": "stdout",
     "output_type": "stream",
     "text": [
      "'한덕수 폭탄'에 우원식 \"개헌 논의 미루자\"…개헌 동시투표 제안 철회\n"
     ]
    }
   ],
   "source": [
    "# reqeusts, bs4 import\n",
    "import requests\n",
    "import bs4\n",
    "\n",
    "# BeautifulSoup 클래스 import\n",
    "from bs4 import BeautifulSoup\n",
    "\n",
    "from urllib.parse import urljoin\n",
    "from IPython.display import Image, display\n",
    "\n",
    "section_dict = {\n",
    "    \"최신\" : \"0100\",\n",
    "    \"정치\" : \"0200\",\n",
    "    \"경제\" : \"0300\",\n",
    "    \"사회\" : \"0400\",\n",
    "    \"세계\" : \"0500\",\n",
    "    \"IT/과학\" : \"0600\"\n",
    "}\n",
    "\n",
    "def print_news(section_name):\n",
    "    section = section_dict[section_name]\n",
    "    if section=='0100':\n",
    "        url = f\"https://news.nate.com/recent?mid=n{section}\"\n",
    "    else:\n",
    "        url = f\"https://news.nate.com/section?mid=n{section}\"\n",
    "\n",
    "    req_header = {\n",
    "        \"user-agent\": \"Mozilla/5.0 (Windows NT 10.0; Win64; x64) AppleWebKit/537.36 (KHTML, like Gecko) Chrome/135.0.0.0 Safari/537.36\"\n",
    "    }\n",
    "    print(f'=======>  {url}  {section_name} 뉴스 <=======')\n",
    "    res = requests.get(url, headers=req_header)\n",
    "    \n",
    "    if res.ok:\n",
    "        html = res.text\n",
    "        soup = BeautifulSoup(html, \"html.parser\")\n",
    "        a_tag_list = soup.select(\"div.mlt01 a\")\n",
    "\n",
    "        for a_tag in a_tag_list:\n",
    "            link = a_tag['href']\n",
    "            h2_tag = a_tag.select_one('span.tb h2.tit')\n",
    "            title = h2_tag.text\n",
    "            print(f'http:{link}')\n",
    "            if a_tag.select_one('span.ib img') != None:\n",
    "                img_tag = a_tag.select_one('span.ib img')\n",
    "                img_link = img_tag['src']\n",
    "                display(Image(url=f'http:{img_link}'))\n",
    "            print(title)\n",
    "\n",
    "text = input('최신, 정치, 경제, 사회, 세계, IT/과학 중 하나를 입력하시오')\n",
    "print_news(text)"
   ]
  },
  {
   "cell_type": "markdown",
   "id": "a2a85b58",
   "metadata": {},
   "source": [
    "과제 2-2 웹툰 이미지 다운로드"
   ]
  },
  {
   "cell_type": "code",
   "execution_count": 21,
   "id": "b8cdfab2",
   "metadata": {},
   "outputs": [
    {
     "name": "stdout",
     "output_type": "stream",
     "text": [
      "91\n",
      "91\n"
     ]
    }
   ],
   "source": [
    "import requests\n",
    "from bs4 import BeautifulSoup\n",
    "import os\n",
    "\n",
    "\n",
    "def download_one_episode(title, no, url):\n",
    "    req_header = {\"referer\": url}\n",
    "    res = requests.get(url)\n",
    "    if res.ok:\n",
    "        # jpg 파일 절대경로 url 찾기\n",
    "        soup = BeautifulSoup(res.text, \"html.parser\")\n",
    "        print(len(soup.select(\"img[src*= 'IMAG01']\")))\n",
    "        img_tags = soup.select(\"img[src*= 'IMAG01']\")\n",
    "        # img_url list\n",
    "        img_urls = []\n",
    "        for img_tag in img_tags:\n",
    "            img_url = img_tag[\"src\"]\n",
    "            img_urls.append(img_url)\n",
    "        print(len(img_urls))\n",
    "\n",
    "        # img 디렉토리 생성\n",
    "        folder_path = os.path.join(os.getcwd(), 'img',title, str(no))\n",
    "        os.makedirs(folder_path, exist_ok=True)\n",
    "        # imgdir이 없으면 생성\n",
    "        for img_url in img_urls:\n",
    "            # requests 의 get(url, headers) 함수 호출하기\n",
    "            # binary 응답 데이터 가져오기\n",
    "            img_data = res.content\n",
    "            # url에서 파일명만 추출하기\n",
    "            filename = os.path.basename(img_url)\n",
    "            file_path = os.path.join(folder_path, filename)\n",
    "            # binday data를 file에 write하기\n",
    "            with open(file_path, \"wb\") as file:\n",
    "                file.write(img_data)\n",
    "    else:\n",
    "        print(f\"error code = {res.status_code}\")\n",
    "\n",
    "\n",
    "download_one_episode(\"일렉시드\", 340,\"https://comic.naver.com/webtoon/detail?titleId=717481&no=340&week=wed\")"
   ]
  },
  {
   "cell_type": "markdown",
   "id": "c6ae28b2",
   "metadata": {},
   "source": [
    "과제 2-3"
   ]
  },
  {
   "cell_type": "code",
   "execution_count": null,
   "id": "8d7c8580",
   "metadata": {},
   "outputs": [
    {
     "name": "stdout",
     "output_type": "stream",
     "text": [
      "0\n"
     ]
    }
   ],
   "source": [
    "import requests\n",
    "from bs4 import BeautifulSoup\n",
    "import os\n",
    "\n",
    "\n",
    "def download_all_episode(title, url):\n",
    "    req_header = {\"referer\": url}\n",
    "    res = requests.get(url)\n",
    "    if res.ok:\n",
    "        soup = BeautifulSoup(res.text, \"html.parser\")\n",
    "        print(len(soup.select(\"li.EpisodeListList__item--M8zq4 a\")))\n",
    "        epi_list = soup.select(\"li.EpisodeListList__item--M8zq4 a\")\n",
    "        for episode in epi_list:\n",
    "            # 에피소드 링크\n",
    "            episode_link = episode[\"href\"]\n",
    "            # 에피소드 번호\n",
    "            no = episode_link.split(\"=\")[2].split(\"&\")[0]\n",
    "            print(no)\n",
    "            # 에피소드 다운로드\n",
    "            download_one_episode(title, no, episode_link)\n",
    "    else:\n",
    "        print(f\"error code = {res.status_code}\")\n",
    "\n",
    "\n",
    "download_all_episode(\"일렉시드\", \"https://comic.naver.com/webtoon/list?titleId=717481&tab=wed\")"
   ]
  }
 ],
 "metadata": {
  "kernelspec": {
   "display_name": "base",
   "language": "python",
   "name": "python3"
  },
  "language_info": {
   "codemirror_mode": {
    "name": "ipython",
    "version": 3
   },
   "file_extension": ".py",
   "mimetype": "text/x-python",
   "name": "python",
   "nbconvert_exporter": "python",
   "pygments_lexer": "ipython3",
   "version": "3.12.7"
  }
 },
 "nbformat": 4,
 "nbformat_minor": 5
}
