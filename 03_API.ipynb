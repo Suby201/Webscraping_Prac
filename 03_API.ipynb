{
 "cells": [
  {
   "cell_type": "markdown",
   "id": "eb69260d",
   "metadata": {},
   "source": [
    "과제 3"
   ]
  },
  {
   "cell_type": "code",
   "execution_count": null,
   "id": "0d343e15",
   "metadata": {},
   "outputs": [],
   "source": [
    "import requests\n",
    "import json\n",
    "import os\n",
    "from pprint import pprint\n",
    "import urllib.request\n",
    "from dotenv import load_dotenv\n",
    "# -*- coding: utf-8 -*-\n",
    "load_dotenv()\n",
    "\n",
    "client_id = os.getenv(\"NAVER_CLIENT_ID\")  # .env 파일의 NAVER_CLIENT_ID\n",
    "client_secret = os.getenv(\"NAVER_CLIENT_SECRET\")  # .env 파일의 NAVER_CLIENT_SECRET\n",
    "headers = {\"X-Naver-Client-Id\": client_id.split(\" #\")[0].strip('\"'),\n",
    "    \"X-Naver-Client-Secret\": client_secret.split(\" #\")[0].strip('\"')}\n",
    "\n",
    "\n",
    "def search_books(query):\n",
    "    # query string 문자열을 dict 선언\n",
    "    headers = {\"X-Naver-Client-Id\": client_id.split(\" #\")[0].strip('\"'),\n",
    "    \"X-Naver-Client-Secret\": client_secret.split(\" #\")[0].strip('\"')}\n",
    "\n",
    "    payload = {\"query\": \"파이썬\", \"display\": 50, \"sort\": \"sim\"}  #'파이썬',\n",
    "\n",
    "    url = \"https://openapi.naver.com/v1/search/book.json\"\n",
    "\n",
    "    # requests get(url, params, headers) 요청\n",
    "    res = requests.get(url, params=payload, headers=headers)\n",
    "    # json() 함수로 응답 결과 가져오기\n",
    "\n",
    "    items_data = res.json()[\"items\"]\n",
    "    # pprint(items_data)\n",
    "    items_list = []\n",
    "    item_list = []\n",
    "    for item in items_data:\n",
    "        item_list.append(item['title'])\n",
    "        item_list.append(item['author'])\n",
    "        item_list.append(item['publisher'])\n",
    "        item_list.append(item['pubdate'])\n",
    "        item_list.append(item['discount'])\n",
    "        item_list.append(item['image'])\n",
    "        item_list.append(item['isbn'])\n",
    "        item_list.append(item['link'])\n",
    "        item_list.append(item['description'])\n",
    "        items_list.append(item_list)\n",
    "        item_list = []\n",
    "    # Ensure the directory exists\n",
    "    os.makedirs('data', exist_ok=True)\n",
    "    with open('data/books.json', 'w', encoding='utf-8') as file:\n",
    "        json.dump(items_list, file)\n",
    "\n",
    "\n",
    "\n",
    "search_books(\"파이썬\")  # 검색어를 인자로 전달"
   ]
  }
 ],
 "metadata": {
  "kernelspec": {
   "display_name": "base",
   "language": "python",
   "name": "python3"
  },
  "language_info": {
   "codemirror_mode": {
    "name": "ipython",
    "version": 3
   },
   "file_extension": ".py",
   "mimetype": "text/x-python",
   "name": "python",
   "nbconvert_exporter": "python",
   "pygments_lexer": "ipython3",
   "version": "3.12.7"
  }
 },
 "nbformat": 4,
 "nbformat_minor": 5
}
